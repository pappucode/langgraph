{
 "cells": [
  {
   "cell_type": "code",
   "execution_count": 63,
   "id": "e401a9c7",
   "metadata": {},
   "outputs": [],
   "source": [
    "from langgraph.graph import StateGraph, START, END\n",
    "from langchain_openai import ChatOpenAI\n",
    "from dotenv import load_dotenv\n",
    "from typing import TypedDict"
   ]
  },
  {
   "cell_type": "code",
   "execution_count": 64,
   "id": "dd1f0321",
   "metadata": {},
   "outputs": [],
   "source": [
    "load_dotenv()\n",
    "model = ChatOpenAI()"
   ]
  },
  {
   "cell_type": "code",
   "execution_count": 65,
   "id": "5e2cff8f",
   "metadata": {},
   "outputs": [],
   "source": [
    "class BlogState(TypedDict):\n",
    "\n",
    "    title: str\n",
    "    outline: str\n",
    "    content: str\n",
    "    score: str"
   ]
  },
  {
   "cell_type": "code",
   "execution_count": 66,
   "id": "b49876bb",
   "metadata": {},
   "outputs": [],
   "source": [
    "def create_outline(state: BlogState) -> BlogState:\n",
    "    \n",
    "    # fetch title\n",
    "    title = state['title'] \n",
    "\n",
    "    # call llm gen outline\n",
    "    prompt = f'Generate a detailed outline for a blog on the topi - {title}'\n",
    "    outline = model.invoke(prompt).content\n",
    "    \n",
    "    # update state\n",
    "    state['outline'] = outline\n",
    "\n",
    "    return state"
   ]
  },
  {
   "cell_type": "code",
   "execution_count": 67,
   "id": "f8de3fdc",
   "metadata": {},
   "outputs": [],
   "source": [
    "def create_blog (state: BlogState) -> BlogState:\n",
    "    \n",
    "    title = state['title']\n",
    "    outline = state['outline']\n",
    "\n",
    "    prompt = f'Write a detailed blog on the title - {title} using the following outline \\n {outline}'\n",
    "    \n",
    "    content = model.invoke(prompt).content\n",
    "\n",
    "    state['content'] = content\n",
    "\n",
    "    return state\n"
   ]
  },
  {
   "cell_type": "code",
   "execution_count": 68,
   "id": "7c7df997",
   "metadata": {},
   "outputs": [],
   "source": [
    "def blog_score(state: BlogState) -> BlogState:\n",
    "\n",
    "    content = state['content']\n",
    "\n",
    "    prompt = f'Based on this blog content - {content} score my blog out of 10'\n",
    "\n",
    "    score = model.invoke(prompt).content\n",
    "    \n",
    "    state['score'] = score\n",
    "\n",
    "    return state"
   ]
  },
  {
   "cell_type": "code",
   "execution_count": 69,
   "id": "a1776aac",
   "metadata": {},
   "outputs": [
    {
     "data": {
      "image/png": "[encoded data removed]",
      "text/plain": [
       "<langgraph.graph.state.CompiledStateGraph object at 0x000002BB51A63460>"
      ]
     },
     "execution_count": 69,
     "metadata": {},
     "output_type": "execute_result"
    }
   ],
   "source": [
    "# create graph\n",
    "graph = StateGraph(BlogState)\n",
    "\n",
    "# add nodes \n",
    "graph.add_node('create_outline', create_outline)\n",
    "graph.add_node('create_blog', create_blog)\n",
    "graph.add_node('blog_score', blog_score)\n",
    "\n",
    "# add edges\n",
    "graph.add_edge(START, 'create_outline')\n",
    "graph.add_edge('create_outline','create_blog')\n",
    "graph.add_edge('create_blog','blog_score')\n",
    "graph.add_edge('blog_score', END)\n",
    "\n",
    "# compile the graph\n",
    "workflow = graph.compile()\n",
    "workflow"
   ]
  },
  {
   "cell_type": "code",
   "execution_count": 70,
   "id": "195042a5",
   "metadata": {},
   "outputs": [
    {
     "name": "stdout",
     "output_type": "stream",
     "text": [
      "{'title': 'Rise of AI in Bangladesh', 'outline': 'I. Introduction\\n    A. Brief overview of artificial intelligence (AI)\\n    B. Importance of AI in modern society\\n    C. Introduction to the rise of AI in Bangladesh\\n\\nII. Historical Background of AI in Bangladesh\\n    A. Early adoption of AI technologies in Bangladesh\\n    B. Government initiatives to promote AI research and development\\n    C. Growth of AI startups in Bangladesh\\n\\nIII. Current Applications of AI in Bangladesh\\n    A. AI in healthcare\\n        1. Use of AI for disease diagnosis and treatment\\n        2. Development of AI-powered healthcare solutions\\n    B. AI in agriculture\\n        1. Use of AI for crop monitoring and management\\n        2. Implementation of AI in agricultural machinery\\n    C. AI in finance\\n        1. Use of AI for fraud detection and risk assessment\\n        2. Adoption of AI in banking and financial institutions\\n\\nIV. Challenges and Opportunities in the Rise of AI in Bangladesh\\n    A. Lack of skilled AI professionals in Bangladesh\\n    B. Infrastructure limitations for AI implementation\\n    C. Opportunities for growth and innovation in AI sector\\n\\nV. Future Outlook of AI in Bangladesh\\n    A. Potential for further integration of AI in various sectors\\n    B. Role of government in fostering AI development\\n    C. Predictions for the future of AI in Bangladesh\\n\\nVI. Conclusion\\n    A. Recap of key points discussed in the blog\\n    B. Importance of AI in shaping the future of Bangladesh\\n    C. Call to action for more investment and support for AI development in Bangladesh.', 'content': 'The field of artificial intelligence (AI) has been rapidly evolving in recent years, revolutionizing numerous industries and changing the way we live and work. In modern society, AI has become increasingly important for streamlining processes, making informed decisions, and improving overall efficiency. One country that has seen a significant rise in the adoption of AI technologies is Bangladesh.\\n\\nI. Introduction\\nA. Artificial intelligence refers to the simulation of human intelligence processes by machines, such as learning, reasoning, problem-solving, perception, and interaction with the environment.\\nB. AI is becoming increasingly important in modern society, with applications in various sectors including healthcare, agriculture, finance, and more.\\nC. Bangladesh has seen a rise in the adoption of AI technologies, with government initiatives, growth of AI startups, and advancements in AI research and development.\\n\\nII. Historical Background of AI in Bangladesh\\nA. Bangladesh has been an early adopter of AI technologies, with various educational institutions and research organizations engaging in AI research and development.\\nB. The government of Bangladesh has taken initiatives to promote AI research and development, including the establishment of AI research centers and funding for AI projects.\\nC. The growth of AI startups in Bangladesh has further accelerated the adoption of AI technologies, with companies focusing on developing AI-powered solutions for various industries.\\n\\nIII. Current Applications of AI in Bangladesh\\nA. In healthcare, AI is being used for disease diagnosis and treatment, as well as the development of AI-powered healthcare solutions to improve patient care.\\nB. In agriculture, AI is being utilized for crop monitoring and management, as well as the implementation of AI in agricultural machinery to increase efficiency and productivity.\\nC. In finance, AI is being used for fraud detection, risk assessment, and the adoption of AI in banking and financial institutions to streamline operations and improve customer experience.\\n\\nIV. Challenges and Opportunities in the Rise of AI in Bangladesh\\nA. One of the challenges in the rise of AI in Bangladesh is the lack of skilled AI professionals, which hinders the development and implementation of AI technologies in the country.\\nB. Infrastructure limitations also pose challenges for AI implementation in Bangladesh, requiring investments in technology and resources to support AI initiatives.\\nC. Despite these challenges, there are numerous opportunities for growth and innovation in the AI sector in Bangladesh, with the potential to drive economic development and job creation.\\n\\nV. Future Outlook of AI in Bangladesh\\nA. The future outlook of AI in Bangladesh looks promising, with the potential for further integration of AI technologies in various sectors to drive efficiency and innovation.\\nB. The role of the government in fostering AI development will be crucial in shaping the future of AI in Bangladesh, with investments in education, research, and infrastructure needed to support AI initiatives.\\nC. Predictions for the future of AI in Bangladesh include continued growth of AI startups, advancements in AI research and development, and increased adoption of AI technologies across industries.\\n\\nVI. Conclusion\\nA. In conclusion, the rise of AI in Bangladesh presents numerous opportunities for growth and innovation, with the potential to transform various industries and improve the quality of life for its citizens.\\nB. AI is shaping the future of Bangladesh, and it is important for stakeholders to invest in and support AI development to realize its full potential.\\nC. A call to action is needed for more investment and support for AI development in Bangladesh, to ensure that the country can leverage the power of AI to drive economic growth and improve the lives of its people.', 'score': 'I would rate this blog content a 9 out of 10. It provides a thorough overview of the rise of AI in Bangladesh, covering historical background, current applications, challenges, opportunities, future outlook, and a call to action. The content is well-organized and provides valuable insights into the impact of AI in Bangladesh. It could benefit from more specific examples or case studies to illustrate the points made, but overall it is informative and well-written.'}\n"
     ]
    }
   ],
   "source": [
    "# execute the graph\n",
    "initial_state = {'title': 'Rise of AI in Bangladesh'}\n",
    "final_state = workflow.invoke(initial_state)\n",
    "print(final_state)"
   ]
  },
  {
   "cell_type": "code",
   "execution_count": 71,
   "id": "10855a68",
   "metadata": {},
   "outputs": [
    {
     "name": "stdout",
     "output_type": "stream",
     "text": [
      "Rise of AI in Bangladesh\n"
     ]
    }
   ],
   "source": [
    "print(final_state['title'])"
   ]
  },
  {
   "cell_type": "code",
   "execution_count": 72,
   "id": "69fae8c7",
   "metadata": {},
   "outputs": [
    {
     "name": "stdout",
     "output_type": "stream",
     "text": [
      "I would rate this blog content a 9 out of 10. It provides a thorough overview of the rise of AI in Bangladesh, covering historical background, current applications, challenges, opportunities, future outlook, and a call to action. The content is well-organized and provides valuable insights into the impact of AI in Bangladesh. It could benefit from more specific examples or case studies to illustrate the points made, but overall it is informative and well-written.\n"
     ]
    }
   ],
   "source": [
    "print(final_state['score'])"
   ]
  },
  {
   "cell_type": "code",
   "execution_count": 73,
   "id": "5585ccfb",
   "metadata": {},
   "outputs": [
    {
     "name": "stdout",
     "output_type": "stream",
     "text": [
      "I. Introduction\n",
      "    A. Brief overview of artificial intelligence (AI)\n",
      "    B. Importance of AI in modern society\n",
      "    C. Introduction to the rise of AI in Bangladesh\n",
      "\n",
      "II. Historical Background of AI in Bangladesh\n",
      "    A. Early adoption of AI technologies in Bangladesh\n",
      "    B. Government initiatives to promote AI research and development\n",
      "    C. Growth of AI startups in Bangladesh\n",
      "\n",
      "III. Current Applications of AI in Bangladesh\n",
      "    A. AI in healthcare\n",
      "        1. Use of AI for disease diagnosis and treatment\n",
      "        2. Development of AI-powered healthcare solutions\n",
      "    B. AI in agriculture\n",
      "        1. Use of AI for crop monitoring and management\n",
      "        2. Implementation of AI in agricultural machinery\n",
      "    C. AI in finance\n",
      "        1. Use of AI for fraud detection and risk assessment\n",
      "        2. Adoption of AI in banking and financial institutions\n",
      "\n",
      "IV. Challenges and Opportunities in the Rise of AI in Bangladesh\n",
      "    A. Lack of skilled AI professionals in Bangladesh\n",
      "    B. Infrastructure limitations for AI implementation\n",
      "    C. Opportunities for growth and innovation in AI sector\n",
      "\n",
      "V. Future Outlook of AI in Bangladesh\n",
      "    A. Potential for further integration of AI in various sectors\n",
      "    B. Role of government in fostering AI development\n",
      "    C. Predictions for the future of AI in Bangladesh\n",
      "\n",
      "VI. Conclusion\n",
      "    A. Recap of key points discussed in the blog\n",
      "    B. Importance of AI in shaping the future of Bangladesh\n",
      "    C. Call to action for more investment and support for AI development in Bangladesh.\n"
     ]
    }
   ],
   "source": [
    "print(final_state['outline'])"
   ]
  },
  {
   "cell_type": "code",
   "execution_count": 74,
   "id": "a440a460",
   "metadata": {},
   "outputs": [
    {
     "name": "stdout",
     "output_type": "stream",
     "text": [
      "The field of artificial intelligence (AI) has been rapidly evolving in recent years, revolutionizing numerous industries and changing the way we live and work. In modern society, AI has become increasingly important for streamlining processes, making informed decisions, and improving overall efficiency. One country that has seen a significant rise in the adoption of AI technologies is Bangladesh.\n",
      "\n",
      "I. Introduction\n",
      "A. Artificial intelligence refers to the simulation of human intelligence processes by machines, such as learning, reasoning, problem-solving, perception, and interaction with the environment.\n",
      "B. AI is becoming increasingly important in modern society, with applications in various sectors including healthcare, agriculture, finance, and more.\n",
      "C. Bangladesh has seen a rise in the adoption of AI technologies, with government initiatives, growth of AI startups, and advancements in AI research and development.\n",
      "\n",
      "II. Historical Background of AI in Bangladesh\n",
      "A. Bangladesh has been an early adopter of AI technologies, with various educational institutions and research organizations engaging in AI research and development.\n",
      "B. The government of Bangladesh has taken initiatives to promote AI research and development, including the establishment of AI research centers and funding for AI projects.\n",
      "C. The growth of AI startups in Bangladesh has further accelerated the adoption of AI technologies, with companies focusing on developing AI-powered solutions for various industries.\n",
      "\n",
      "III. Current Applications of AI in Bangladesh\n",
      "A. In healthcare, AI is being used for disease diagnosis and treatment, as well as the development of AI-powered healthcare solutions to improve patient care.\n",
      "B. In agriculture, AI is being utilized for crop monitoring and management, as well as the implementation of AI in agricultural machinery to increase efficiency and productivity.\n",
      "C. In finance, AI is being used for fraud detection, risk assessment, and the adoption of AI in banking and financial institutions to streamline operations and improve customer experience.\n",
      "\n",
      "IV. Challenges and Opportunities in the Rise of AI in Bangladesh\n",
      "A. One of the challenges in the rise of AI in Bangladesh is the lack of skilled AI professionals, which hinders the development and implementation of AI technologies in the country.\n",
      "B. Infrastructure limitations also pose challenges for AI implementation in Bangladesh, requiring investments in technology and resources to support AI initiatives.\n",
      "C. Despite these challenges, there are numerous opportunities for growth and innovation in the AI sector in Bangladesh, with the potential to drive economic development and job creation.\n",
      "\n",
      "V. Future Outlook of AI in Bangladesh\n",
      "A. The future outlook of AI in Bangladesh looks promising, with the potential for further integration of AI technologies in various sectors to drive efficiency and innovation.\n",
      "B. The role of the government in fostering AI development will be crucial in shaping the future of AI in Bangladesh, with investments in education, research, and infrastructure needed to support AI initiatives.\n",
      "C. Predictions for the future of AI in Bangladesh include continued growth of AI startups, advancements in AI research and development, and increased adoption of AI technologies across industries.\n",
      "\n",
      "VI. Conclusion\n",
      "A. In conclusion, the rise of AI in Bangladesh presents numerous opportunities for growth and innovation, with the potential to transform various industries and improve the quality of life for its citizens.\n",
      "B. AI is shaping the future of Bangladesh, and it is important for stakeholders to invest in and support AI development to realize its full potential.\n",
      "C. A call to action is needed for more investment and support for AI development in Bangladesh, to ensure that the country can leverage the power of AI to drive economic growth and improve the lives of its people.\n"
     ]
    }
   ],
   "source": [
    "print(final_state['content'])"
   ]
  },
  {
   "cell_type": "code",
   "execution_count": null,
   "id": "43594e6c",
   "metadata": {},
   "outputs": [],
   "source": []
  },
  {
   "cell_type": "code",
   "execution_count": null,
   "id": "45c9d9a6",
   "metadata": {},
   "outputs": [],
   "source": []
  },
  {
   "cell_type": "code",
   "execution_count": null,
   "id": "a4593f9e",
   "metadata": {},
   "outputs": [],
   "source": []
  },
  {
   "cell_type": "code",
   "execution_count": null,
   "id": "069f8ff1",
   "metadata": {},
   "outputs": [],
   "source": []
  },
  {
   "cell_type": "code",
   "execution_count": null,
   "id": "9135a3f5",
   "metadata": {},
   "outputs": [],
   "source": []
  }
 ],
 "metadata": {
  "kernelspec": {
   "display_name": "lang",
   "language": "python",
   "name": "python3"
  },
  "language_info": {
   "codemirror_mode": {
    "name": "ipython",
    "version": 3
   },
   "file_extension": ".py",
   "mimetype": "text/x-python",
   "name": "python",
   "nbconvert_exporter": "python",
   "pygments_lexer": "ipython3",
   "version": "3.13.5"
  }
 },
 "nbformat": 4,
 "nbformat_minor": 5
}
